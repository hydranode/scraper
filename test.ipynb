{
 "cells": [
  {
   "cell_type": "code",
   "execution_count": 16,
   "metadata": {},
   "outputs": [],
   "source": [
    "import pandas as pd\n",
    "def remove_duplicate_columns(file_path='/Users/kumareshdey/Downloads/6270c016-280e-4b90-8560-3b9673102169/scraped_data.csv'):\n",
    "    df = pd.read_csv(file_path)\n",
    "    df = df.loc[:, ~df.columns.duplicated()]\n",
    "    df = df.drop_duplicates(subset=['url'])\n",
    "    # return df\n",
    "    df.to_csv(file_path, index=False)"
   ]
  },
  {
   "cell_type": "code",
   "execution_count": 17,
   "metadata": {},
   "outputs": [],
   "source": [
    "file_path='/Users/kumareshdey/Downloads/6270c016-280e-4b90-8560-3b9673102169/scraped_data.csv'\n",
    "\n",
    "dff = remove_duplicate_columns()"
   ]
  },
  {
   "cell_type": "code",
   "execution_count": 18,
   "metadata": {},
   "outputs": [],
   "source": [
    "import requests\n",
    "\n",
    "x = requests.get('https://www.endlessabroad.com.tr/en/undergraduate-amp-master39s-degree-opportunity-to-meet-face-to-face-with-ucw-and-unf-in-canada')"
   ]
  },
  {
   "cell_type": "code",
   "execution_count": 1,
   "metadata": {},
   "outputs": [],
   "source": [
    "import requests"
   ]
  },
  {
   "cell_type": "code",
   "execution_count": 2,
   "metadata": {},
   "outputs": [],
   "source": [
    "x = requests.get('https://www.endlessabroad.com.tr/en/russia-language-schools?place=52838&program_start_date=05-08-2024')"
   ]
  },
  {
   "cell_type": "code",
   "execution_count": 3,
   "metadata": {},
   "outputs": [
    {
     "data": {
      "text/plain": [
       "200"
      ]
     },
     "execution_count": 3,
     "metadata": {},
     "output_type": "execute_result"
    }
   ],
   "source": [
    "x.status_code"
   ]
  },
  {
   "cell_type": "code",
   "execution_count": null,
   "metadata": {},
   "outputs": [],
   "source": []
  }
 ],
 "metadata": {
  "kernelspec": {
   "display_name": "kagi_scraper",
   "language": "python",
   "name": "python3"
  },
  "language_info": {
   "codemirror_mode": {
    "name": "ipython",
    "version": 3
   },
   "file_extension": ".py",
   "mimetype": "text/x-python",
   "name": "python",
   "nbconvert_exporter": "python",
   "pygments_lexer": "ipython3",
   "version": "3.10.13"
  }
 },
 "nbformat": 4,
 "nbformat_minor": 2
}
